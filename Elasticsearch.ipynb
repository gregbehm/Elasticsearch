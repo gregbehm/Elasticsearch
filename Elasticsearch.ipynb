{
 "cells": [
  {
   "cell_type": "markdown",
   "metadata": {},
   "source": [
    "# Working with Elasticsearch"
   ]
  },
  {
   "cell_type": "markdown",
   "metadata": {},
   "source": [
    "### For guidance, see [Elastic Stack and Product Documentation](https://www.elastic.co/guide/index.html)"
   ]
  },
  {
   "cell_type": "markdown",
   "metadata": {},
   "source": [
    "### Import necessary modules"
   ]
  },
  {
   "cell_type": "code",
   "execution_count": 1,
   "metadata": {},
   "outputs": [],
   "source": [
    "import json\n",
    "import pathlib\n",
    "import requests\n",
    "import time\n",
    "# twittertools is my local twittertools.py module\n",
    "import twittertools"
   ]
  },
  {
   "cell_type": "markdown",
   "metadata": {},
   "source": [
    "### Define Elasticsearch server URI"
   ]
  },
  {
   "cell_type": "code",
   "execution_count": 2,
   "metadata": {},
   "outputs": [],
   "source": [
    "elasticsearch_server = 'http://localhost:9200'"
   ]
  },
  {
   "cell_type": "markdown",
   "metadata": {},
   "source": [
    "### Print current indices"
   ]
  },
  {
   "cell_type": "code",
   "execution_count": 3,
   "metadata": {},
   "outputs": [
    {
     "name": "stdout",
     "output_type": "stream",
     "text": [
      "yellow open .kibana Yuy-vovlQyeUPVim2PcdFw 1 1    2 0 10.9kb 10.9kb\n",
      "yellow open twitter hAyoLMagQia7L-gNb6WhWQ 5 1 3242 0    2mb    2mb\n",
      "\n"
     ]
    }
   ],
   "source": [
    "r = requests.get(elasticsearch_server + '/_cat/indices')\n",
    "print(r.text)"
   ]
  },
  {
   "cell_type": "markdown",
   "metadata": {},
   "source": [
    "### Create Authenticated TwitterTools object"
   ]
  },
  {
   "cell_type": "code",
   "execution_count": 4,
   "metadata": {},
   "outputs": [],
   "source": [
    "filepath = pathlib.Path.home().joinpath('.twitter', 'credentials.json')\n",
    "twt = twittertools.TwitterTools(filepath)"
   ]
  },
  {
   "cell_type": "markdown",
   "metadata": {},
   "source": [
    "### Get tweets from @pourmecoffee's timeline"
   ]
  },
  {
   "cell_type": "code",
   "execution_count": 5,
   "metadata": {},
   "outputs": [
    {
     "name": "stdout",
     "output_type": "stream",
     "text": [
      "3242 tweets retrieved from @pourmecoffee's timeline\n"
     ]
    }
   ],
   "source": [
    "screen_name = 'pourmecoffee'\n",
    "tweets = twt.get_user_timeline(screen_name)\n",
    "print(f\"{len(tweets)} tweets retrieved from @{screen_name}'s timeline\")"
   ]
  },
  {
   "cell_type": "markdown",
   "metadata": {},
   "source": [
    "### Index all tweets"
   ]
  },
  {
   "cell_type": "code",
   "execution_count": 6,
   "metadata": {},
   "outputs": [
    {
     "name": "stdout",
     "output_type": "stream",
     "text": [
      "3242 tweets indexed\n"
     ]
    }
   ],
   "source": [
    "# For this demonstration only, delete any existing /twitter index\n",
    "tweet_index_uri = elasticsearch_server + '/twitter'\n",
    "requests.delete(tweet_index_uri)\n",
    "\n",
    "# Index the tweets\n",
    "post_uri = tweet_index_uri + '/tweets'\n",
    "total = 0\n",
    "for tweet in tweets:\n",
    "    source = twittertools.unpack_tweet(tweet)\n",
    "    r = requests.post(post_uri, json=source)\n",
    "    if r.status_code == 201:\n",
    "        total += 1\n",
    "print(f'{total} tweets indexed')"
   ]
  },
  {
   "cell_type": "markdown",
   "metadata": {},
   "source": [
    "### Confirm number of tweets indexed"
   ]
  },
  {
   "cell_type": "code",
   "execution_count": 7,
   "metadata": {},
   "outputs": [
    {
     "name": "stdout",
     "output_type": "stream",
     "text": [
      "Found 3242 tweets\n"
     ]
    }
   ],
   "source": [
    "sleep_time = 0.50\n",
    "search_uri = post_uri + '/_search'\n",
    "while True:\n",
    "    results = requests.get(search_uri).json()\n",
    "    if results['hits']['total'] == total:\n",
    "        break\n",
    "    time.sleep(sleep_time)\n",
    "print(f'Found {total} tweets')"
   ]
  }
 ],
 "metadata": {
  "kernelspec": {
   "display_name": "Python 3",
   "language": "python",
   "name": "python3"
  },
  "language_info": {
   "codemirror_mode": {
    "name": "ipython",
    "version": 3
   },
   "file_extension": ".py",
   "mimetype": "text/x-python",
   "name": "python",
   "nbconvert_exporter": "python",
   "pygments_lexer": "ipython3",
   "version": "3.6.3"
  }
 },
 "nbformat": 4,
 "nbformat_minor": 2
}
