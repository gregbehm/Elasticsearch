{
 "cells": [
  {
   "cell_type": "markdown",
   "metadata": {},
   "source": [
    "# Working with Elasticsearch"
   ]
  },
  {
   "cell_type": "markdown",
   "metadata": {},
   "source": [
    "### For Elastic Stack guidance, see [Elastic Stack and Product Documentation](https://www.elastic.co/guide/index.html)"
   ]
  },
  {
   "cell_type": "markdown",
   "metadata": {},
   "source": [
    "### Python Elasticsearch Client docs: http://elasticsearch-py.readthedocs.io"
   ]
  },
  {
   "cell_type": "markdown",
   "metadata": {},
   "source": [
    "### Import necessary modules"
   ]
  },
  {
   "cell_type": "code",
   "execution_count": 1,
   "metadata": {},
   "outputs": [],
   "source": [
    "from elasticsearch import Elasticsearch\n",
    "from elasticsearch_dsl import Search\n",
    "from IPython.core.interactiveshell import InteractiveShell\n",
    "import pandas as pd\n",
    "import pathlib\n",
    "import time\n",
    "# twittertools is my local twittertools.py module\n",
    "import twittertools"
   ]
  },
  {
   "cell_type": "code",
   "execution_count": 2,
   "metadata": {},
   "outputs": [],
   "source": [
    "InteractiveShell.ast_node_interactivity = 'all'"
   ]
  },
  {
   "cell_type": "code",
   "execution_count": 3,
   "metadata": {},
   "outputs": [],
   "source": [
    "def cat_to_DataFrame(string_):\n",
    "    \"\"\"\n",
    "    Converts a multi-line input string to a pandas DataFrame,\n",
    "    using line 0 as the assumed table header.\n",
    "    \"\"\"\n",
    "    lines = [line.split() for line in string_.split('\\n') if line]\n",
    "    return pd.DataFrame(data=lines[1:], columns=lines[0])"
   ]
  },
  {
   "cell_type": "markdown",
   "metadata": {},
   "source": [
    "### Instantiate Elasticsearch object"
   ]
  },
  {
   "cell_type": "code",
   "execution_count": 4,
   "metadata": {},
   "outputs": [],
   "source": [
    "# Default connection to localhost:9200\n",
    "es = Elasticsearch()"
   ]
  },
  {
   "cell_type": "markdown",
   "metadata": {},
   "source": [
    "### Print system information for reference"
   ]
  },
  {
   "cell_type": "code",
   "execution_count": 5,
   "metadata": {},
   "outputs": [
    {
     "name": "stdout",
     "output_type": "stream",
     "text": [
      "Health:\n"
     ]
    },
    {
     "data": {
      "text/html": [
       "<div>\n",
       "<style scoped>\n",
       "    .dataframe tbody tr th:only-of-type {\n",
       "        vertical-align: middle;\n",
       "    }\n",
       "\n",
       "    .dataframe tbody tr th {\n",
       "        vertical-align: top;\n",
       "    }\n",
       "\n",
       "    .dataframe thead th {\n",
       "        text-align: right;\n",
       "    }\n",
       "</style>\n",
       "<table border=\"1\" class=\"dataframe\">\n",
       "  <thead>\n",
       "    <tr style=\"text-align: right;\">\n",
       "      <th></th>\n",
       "      <th>epoch</th>\n",
       "      <th>timestamp</th>\n",
       "      <th>cluster</th>\n",
       "      <th>status</th>\n",
       "      <th>node.total</th>\n",
       "      <th>node.data</th>\n",
       "      <th>shards</th>\n",
       "      <th>pri</th>\n",
       "      <th>relo</th>\n",
       "      <th>init</th>\n",
       "      <th>unassign</th>\n",
       "      <th>pending_tasks</th>\n",
       "      <th>max_task_wait_time</th>\n",
       "      <th>active_shards_percent</th>\n",
       "    </tr>\n",
       "  </thead>\n",
       "  <tbody>\n",
       "    <tr>\n",
       "      <th>0</th>\n",
       "      <td>1512595386</td>\n",
       "      <td>14:23:06</td>\n",
       "      <td>elasticsearch</td>\n",
       "      <td>yellow</td>\n",
       "      <td>1</td>\n",
       "      <td>1</td>\n",
       "      <td>6</td>\n",
       "      <td>6</td>\n",
       "      <td>0</td>\n",
       "      <td>0</td>\n",
       "      <td>6</td>\n",
       "      <td>0</td>\n",
       "      <td>-</td>\n",
       "      <td>50.0%</td>\n",
       "    </tr>\n",
       "  </tbody>\n",
       "</table>\n",
       "</div>"
      ],
      "text/plain": [
       "        epoch timestamp        cluster  status node.total node.data shards  \\\n",
       "0  1512595386  14:23:06  elasticsearch  yellow          1         1      6   \n",
       "\n",
       "  pri relo init unassign pending_tasks max_task_wait_time  \\\n",
       "0   6    0    0        6             0                  -   \n",
       "\n",
       "  active_shards_percent  \n",
       "0                 50.0%  "
      ]
     },
     "execution_count": 5,
     "metadata": {},
     "output_type": "execute_result"
    },
    {
     "name": "stdout",
     "output_type": "stream",
     "text": [
      "Nodes:\n"
     ]
    },
    {
     "data": {
      "text/html": [
       "<div>\n",
       "<style scoped>\n",
       "    .dataframe tbody tr th:only-of-type {\n",
       "        vertical-align: middle;\n",
       "    }\n",
       "\n",
       "    .dataframe tbody tr th {\n",
       "        vertical-align: top;\n",
       "    }\n",
       "\n",
       "    .dataframe thead th {\n",
       "        text-align: right;\n",
       "    }\n",
       "</style>\n",
       "<table border=\"1\" class=\"dataframe\">\n",
       "  <thead>\n",
       "    <tr style=\"text-align: right;\">\n",
       "      <th></th>\n",
       "      <th>ip</th>\n",
       "      <th>heap.percent</th>\n",
       "      <th>ram.percent</th>\n",
       "      <th>cpu</th>\n",
       "      <th>load_1m</th>\n",
       "      <th>load_5m</th>\n",
       "      <th>load_15m</th>\n",
       "      <th>node.role</th>\n",
       "      <th>master</th>\n",
       "      <th>name</th>\n",
       "    </tr>\n",
       "  </thead>\n",
       "  <tbody>\n",
       "    <tr>\n",
       "      <th>0</th>\n",
       "      <td>127.0.0.1</td>\n",
       "      <td>15</td>\n",
       "      <td>25</td>\n",
       "      <td>45</td>\n",
       "      <td>1.17</td>\n",
       "      <td>0.64</td>\n",
       "      <td>0.50</td>\n",
       "      <td>mdi</td>\n",
       "      <td>*</td>\n",
       "      <td>1Y86nkN</td>\n",
       "    </tr>\n",
       "  </tbody>\n",
       "</table>\n",
       "</div>"
      ],
      "text/plain": [
       "          ip heap.percent ram.percent cpu load_1m load_5m load_15m node.role  \\\n",
       "0  127.0.0.1           15          25  45    1.17    0.64     0.50       mdi   \n",
       "\n",
       "  master     name  \n",
       "0      *  1Y86nkN  "
      ]
     },
     "execution_count": 5,
     "metadata": {},
     "output_type": "execute_result"
    },
    {
     "name": "stdout",
     "output_type": "stream",
     "text": [
      "Shards:\n"
     ]
    },
    {
     "data": {
      "text/html": [
       "<div>\n",
       "<style scoped>\n",
       "    .dataframe tbody tr th:only-of-type {\n",
       "        vertical-align: middle;\n",
       "    }\n",
       "\n",
       "    .dataframe tbody tr th {\n",
       "        vertical-align: top;\n",
       "    }\n",
       "\n",
       "    .dataframe thead th {\n",
       "        text-align: right;\n",
       "    }\n",
       "</style>\n",
       "<table border=\"1\" class=\"dataframe\">\n",
       "  <thead>\n",
       "    <tr style=\"text-align: right;\">\n",
       "      <th></th>\n",
       "      <th>index</th>\n",
       "      <th>shard</th>\n",
       "      <th>prirep</th>\n",
       "      <th>state</th>\n",
       "      <th>docs</th>\n",
       "      <th>store</th>\n",
       "      <th>ip</th>\n",
       "      <th>node</th>\n",
       "    </tr>\n",
       "  </thead>\n",
       "  <tbody>\n",
       "    <tr>\n",
       "      <th>0</th>\n",
       "      <td>.kibana</td>\n",
       "      <td>0</td>\n",
       "      <td>p</td>\n",
       "      <td>STARTED</td>\n",
       "      <td>2</td>\n",
       "      <td>10.9kb</td>\n",
       "      <td>127.0.0.1</td>\n",
       "      <td>1Y86nkN</td>\n",
       "    </tr>\n",
       "    <tr>\n",
       "      <th>1</th>\n",
       "      <td>.kibana</td>\n",
       "      <td>0</td>\n",
       "      <td>r</td>\n",
       "      <td>UNASSIGNED</td>\n",
       "      <td>None</td>\n",
       "      <td>None</td>\n",
       "      <td>None</td>\n",
       "      <td>None</td>\n",
       "    </tr>\n",
       "    <tr>\n",
       "      <th>2</th>\n",
       "      <td>twitter</td>\n",
       "      <td>4</td>\n",
       "      <td>p</td>\n",
       "      <td>STARTED</td>\n",
       "      <td>1936</td>\n",
       "      <td>1.4mb</td>\n",
       "      <td>127.0.0.1</td>\n",
       "      <td>1Y86nkN</td>\n",
       "    </tr>\n",
       "    <tr>\n",
       "      <th>3</th>\n",
       "      <td>twitter</td>\n",
       "      <td>4</td>\n",
       "      <td>r</td>\n",
       "      <td>UNASSIGNED</td>\n",
       "      <td>None</td>\n",
       "      <td>None</td>\n",
       "      <td>None</td>\n",
       "      <td>None</td>\n",
       "    </tr>\n",
       "    <tr>\n",
       "      <th>4</th>\n",
       "      <td>twitter</td>\n",
       "      <td>3</td>\n",
       "      <td>p</td>\n",
       "      <td>STARTED</td>\n",
       "      <td>1904</td>\n",
       "      <td>1.3mb</td>\n",
       "      <td>127.0.0.1</td>\n",
       "      <td>1Y86nkN</td>\n",
       "    </tr>\n",
       "    <tr>\n",
       "      <th>5</th>\n",
       "      <td>twitter</td>\n",
       "      <td>3</td>\n",
       "      <td>r</td>\n",
       "      <td>UNASSIGNED</td>\n",
       "      <td>None</td>\n",
       "      <td>None</td>\n",
       "      <td>None</td>\n",
       "      <td>None</td>\n",
       "    </tr>\n",
       "    <tr>\n",
       "      <th>6</th>\n",
       "      <td>twitter</td>\n",
       "      <td>1</td>\n",
       "      <td>p</td>\n",
       "      <td>STARTED</td>\n",
       "      <td>1922</td>\n",
       "      <td>1.3mb</td>\n",
       "      <td>127.0.0.1</td>\n",
       "      <td>1Y86nkN</td>\n",
       "    </tr>\n",
       "    <tr>\n",
       "      <th>7</th>\n",
       "      <td>twitter</td>\n",
       "      <td>1</td>\n",
       "      <td>r</td>\n",
       "      <td>UNASSIGNED</td>\n",
       "      <td>None</td>\n",
       "      <td>None</td>\n",
       "      <td>None</td>\n",
       "      <td>None</td>\n",
       "    </tr>\n",
       "    <tr>\n",
       "      <th>8</th>\n",
       "      <td>twitter</td>\n",
       "      <td>2</td>\n",
       "      <td>p</td>\n",
       "      <td>STARTED</td>\n",
       "      <td>1921</td>\n",
       "      <td>1.3mb</td>\n",
       "      <td>127.0.0.1</td>\n",
       "      <td>1Y86nkN</td>\n",
       "    </tr>\n",
       "    <tr>\n",
       "      <th>9</th>\n",
       "      <td>twitter</td>\n",
       "      <td>2</td>\n",
       "      <td>r</td>\n",
       "      <td>UNASSIGNED</td>\n",
       "      <td>None</td>\n",
       "      <td>None</td>\n",
       "      <td>None</td>\n",
       "      <td>None</td>\n",
       "    </tr>\n",
       "    <tr>\n",
       "      <th>10</th>\n",
       "      <td>twitter</td>\n",
       "      <td>0</td>\n",
       "      <td>p</td>\n",
       "      <td>STARTED</td>\n",
       "      <td>1985</td>\n",
       "      <td>1.4mb</td>\n",
       "      <td>127.0.0.1</td>\n",
       "      <td>1Y86nkN</td>\n",
       "    </tr>\n",
       "    <tr>\n",
       "      <th>11</th>\n",
       "      <td>twitter</td>\n",
       "      <td>0</td>\n",
       "      <td>r</td>\n",
       "      <td>UNASSIGNED</td>\n",
       "      <td>None</td>\n",
       "      <td>None</td>\n",
       "      <td>None</td>\n",
       "      <td>None</td>\n",
       "    </tr>\n",
       "  </tbody>\n",
       "</table>\n",
       "</div>"
      ],
      "text/plain": [
       "      index shard prirep       state  docs   store         ip     node\n",
       "0   .kibana     0      p     STARTED     2  10.9kb  127.0.0.1  1Y86nkN\n",
       "1   .kibana     0      r  UNASSIGNED  None    None       None     None\n",
       "2   twitter     4      p     STARTED  1936   1.4mb  127.0.0.1  1Y86nkN\n",
       "3   twitter     4      r  UNASSIGNED  None    None       None     None\n",
       "4   twitter     3      p     STARTED  1904   1.3mb  127.0.0.1  1Y86nkN\n",
       "5   twitter     3      r  UNASSIGNED  None    None       None     None\n",
       "6   twitter     1      p     STARTED  1922   1.3mb  127.0.0.1  1Y86nkN\n",
       "7   twitter     1      r  UNASSIGNED  None    None       None     None\n",
       "8   twitter     2      p     STARTED  1921   1.3mb  127.0.0.1  1Y86nkN\n",
       "9   twitter     2      r  UNASSIGNED  None    None       None     None\n",
       "10  twitter     0      p     STARTED  1985   1.4mb  127.0.0.1  1Y86nkN\n",
       "11  twitter     0      r  UNASSIGNED  None    None       None     None"
      ]
     },
     "execution_count": 5,
     "metadata": {},
     "output_type": "execute_result"
    },
    {
     "name": "stdout",
     "output_type": "stream",
     "text": [
      "Indices:\n"
     ]
    },
    {
     "data": {
      "text/html": [
       "<div>\n",
       "<style scoped>\n",
       "    .dataframe tbody tr th:only-of-type {\n",
       "        vertical-align: middle;\n",
       "    }\n",
       "\n",
       "    .dataframe tbody tr th {\n",
       "        vertical-align: top;\n",
       "    }\n",
       "\n",
       "    .dataframe thead th {\n",
       "        text-align: right;\n",
       "    }\n",
       "</style>\n",
       "<table border=\"1\" class=\"dataframe\">\n",
       "  <thead>\n",
       "    <tr style=\"text-align: right;\">\n",
       "      <th></th>\n",
       "      <th>health</th>\n",
       "      <th>status</th>\n",
       "      <th>index</th>\n",
       "      <th>uuid</th>\n",
       "      <th>pri</th>\n",
       "      <th>rep</th>\n",
       "      <th>docs.count</th>\n",
       "      <th>docs.deleted</th>\n",
       "      <th>store.size</th>\n",
       "      <th>pri.store.size</th>\n",
       "    </tr>\n",
       "  </thead>\n",
       "  <tbody>\n",
       "    <tr>\n",
       "      <th>0</th>\n",
       "      <td>yellow</td>\n",
       "      <td>open</td>\n",
       "      <td>twitter</td>\n",
       "      <td>zcJjp6EYRNmgjKQzuuY1ug</td>\n",
       "      <td>5</td>\n",
       "      <td>1</td>\n",
       "      <td>9668</td>\n",
       "      <td>0</td>\n",
       "      <td>6.9mb</td>\n",
       "      <td>6.9mb</td>\n",
       "    </tr>\n",
       "    <tr>\n",
       "      <th>1</th>\n",
       "      <td>yellow</td>\n",
       "      <td>open</td>\n",
       "      <td>.kibana</td>\n",
       "      <td>Yuy-vovlQyeUPVim2PcdFw</td>\n",
       "      <td>1</td>\n",
       "      <td>1</td>\n",
       "      <td>2</td>\n",
       "      <td>0</td>\n",
       "      <td>10.9kb</td>\n",
       "      <td>10.9kb</td>\n",
       "    </tr>\n",
       "  </tbody>\n",
       "</table>\n",
       "</div>"
      ],
      "text/plain": [
       "   health status    index                    uuid pri rep docs.count  \\\n",
       "0  yellow   open  twitter  zcJjp6EYRNmgjKQzuuY1ug   5   1       9668   \n",
       "1  yellow   open  .kibana  Yuy-vovlQyeUPVim2PcdFw   1   1          2   \n",
       "\n",
       "  docs.deleted store.size pri.store.size  \n",
       "0            0      6.9mb          6.9mb  \n",
       "1            0     10.9kb         10.9kb  "
      ]
     },
     "execution_count": 5,
     "metadata": {},
     "output_type": "execute_result"
    }
   ],
   "source": [
    "reports = [('Health:', es.cat.health(v=True)), ('Nodes:', es.cat.nodes(v=True)),\n",
    "           ('Shards:', es.cat.shards(v=True)), ('Indices:', es.cat.indices(v=True))]\n",
    "for name, report in reports:\n",
    "    print(name)\n",
    "    cat_to_DataFrame(report)"
   ]
  },
  {
   "cell_type": "markdown",
   "metadata": {},
   "source": [
    "### Get tweets from a few Twitter user timelines; index them in Elasticsearch"
   ]
  },
  {
   "cell_type": "code",
   "execution_count": 6,
   "metadata": {},
   "outputs": [],
   "source": [
    "# For this demonstration only, delete any existing /twitter index\n",
    "result = es.indices.delete(index='twitter', ignore=[400, 404])"
   ]
  },
  {
   "cell_type": "code",
   "execution_count": 7,
   "metadata": {},
   "outputs": [],
   "source": [
    "# Create Authenticated TwitterTools object\n",
    "filepath = pathlib.Path.home().joinpath('.twitter', 'credentials.json')\n",
    "twt = twittertools.TwitterTools(filepath)"
   ]
  },
  {
   "cell_type": "code",
   "execution_count": 8,
   "metadata": {},
   "outputs": [
    {
     "name": "stdout",
     "output_type": "stream",
     "text": [
      "3203 tweets retrieved from @pourmecoffee's timeline; 3203 indexed\n",
      "3244 tweets retrieved from @washingtonpost's timeline; 3244 indexed\n",
      "3222 tweets retrieved from @brainpicker's timeline; 3222 indexed\n",
      "3195 tweets retrieved from @wilw's timeline; 3195 indexed\n",
      "Total tweets indexed: 12864\n"
     ]
    }
   ],
   "source": [
    "all_indexed = 0\n",
    "total_tweets = 0\n",
    "screen_names = ['pourmecoffee', 'washingtonpost', 'brainpicker', 'wilw']\n",
    "for screen_name in screen_names: \n",
    "    tweets = twt.get_user_timeline(screen_name)\n",
    "    total_tweets += len(tweets)\n",
    "    print(f\"{len(tweets)} tweets retrieved from @{screen_name}'s timeline;\", end=' ')\n",
    "    total_indexed = 0\n",
    "    for tweet in tweets:\n",
    "        doc = twittertools.unpack_tweet(tweet)\n",
    "        result = es.index(index='twitter', doc_type='tweet', body=doc)\n",
    "        if result['_shards']['successful']:\n",
    "            total_indexed += 1\n",
    "    print(f'{total_indexed} indexed', flush=True)\n",
    "    all_indexed += total_indexed\n",
    "print('Total tweets indexed:', all_indexed)"
   ]
  },
  {
   "cell_type": "markdown",
   "metadata": {},
   "source": [
    "### Confirm number of tweets indexed"
   ]
  },
  {
   "cell_type": "code",
   "execution_count": 9,
   "metadata": {},
   "outputs": [
    {
     "name": "stdout",
     "output_type": "stream",
     "text": [
      "\n",
      "Found 12864 indexed tweets\n"
     ]
    }
   ],
   "source": [
    "# There may be latency between indexing and getting\n",
    "# complete search results. Introduce a short wait...\n",
    "max_wait = 5.0  # seconds\n",
    "sleep_wait = 0.50\n",
    "sleep_count = 0\n",
    "search = Search(using=es, index='twitter', doc_type='tweet')\n",
    "while True:\n",
    "    doc_count = search.count()\n",
    "    if doc_count == all_indexed:\n",
    "        break\n",
    "    sleep_count += 1\n",
    "    if sleep_count*sleep_wait > max_wait:\n",
    "        break\n",
    "    time.sleep(sleep_wait)\n",
    "print(f'\\nFound {doc_count} indexed tweets')"
   ]
  },
  {
   "cell_type": "markdown",
   "metadata": {},
   "source": [
    "### Perform simple match query on tweet texts"
   ]
  },
  {
   "cell_type": "code",
   "execution_count": 10,
   "metadata": {},
   "outputs": [
    {
     "name": "stdout",
     "output_type": "stream",
     "text": [
      "Got 36 matches\n",
      "Top ten by relevance score:\n",
      "- pourmecoffee 2017-06-29T17:40:25Z @NASA @CassiniSaturn pierogi mmm\n",
      "- pourmecoffee 2017-06-05T22:31:52Z @NASA Like my tweets.\n",
      "- pourmecoffee 2017-08-18T11:51:27Z @NASA @NASA_TDRS You're firing on Earth do you take me for a fool?\n",
      "- pourmecoffee 2017-07-12T18:24:04Z @NASA Finally some non-Manhatten-sized icebergs.\n",
      "- washingtonpost 2017-11-28T18:58:00Z A NASA astronaut films his spacewalk — and a breathtaking view of Earth https://t.co/3WrPgggQVF\n",
      "- washingtonpost 2017-11-16T05:47:56Z These are the melting glaciers that might someday drown your city, according to NASA https://t.co/f2fd7fUexU\n",
      "- washingtonpost 2017-11-29T08:05:43Z A NASA astronaut films his spacewalk — and a breathtaking view of Earth https://t.co/ZaCEVRbTME\n",
      "- washingtonpost 2017-11-19T15:04:44Z Perspective: Please stop annoying this NASA scientist with your ridiculous Planet X doomsday theories https://t.co/soTGVzQqqm\n",
      "- washingtonpost 2017-11-19T00:52:20Z Perspective: Please stop annoying this NASA scientist with your ridiculous Planet X doomsday theories https://t.co/4SpRjpoj2y\n",
      "- pourmecoffee 2017-09-07T22:54:20Z Rare shot from NASA of Carl Sagan just minutes after he landed on Earth. https://t.co/XlXNWKubTn\n"
     ]
    }
   ],
   "source": [
    "results = search.query(\"match\", text=\"NASA\").execute()\n",
    "print(f'Got {results[\"hits\"][\"total\"]} matches')\n",
    "print('Top ten by relevance score:')\n",
    "for hit in results['hits']['hits']:\n",
    "    tweet = hit['_source']\n",
    "    print('-', tweet['screen_name'], tweet['created'], tweet['text'])"
   ]
  }
 ],
 "metadata": {
  "kernelspec": {
   "display_name": "Python 3",
   "language": "python",
   "name": "python3"
  },
  "language_info": {
   "codemirror_mode": {
    "name": "ipython",
    "version": 3
   },
   "file_extension": ".py",
   "mimetype": "text/x-python",
   "name": "python",
   "nbconvert_exporter": "python",
   "pygments_lexer": "ipython3",
   "version": "3.6.3"
  }
 },
 "nbformat": 4,
 "nbformat_minor": 2
}
