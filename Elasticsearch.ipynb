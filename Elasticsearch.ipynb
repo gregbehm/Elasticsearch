{
 "cells": [
  {
   "cell_type": "markdown",
   "metadata": {},
   "source": [
    "# Working with Elasticsearch and Elasticsearch Python clients"
   ]
  },
  {
   "cell_type": "markdown",
   "metadata": {},
   "source": [
    "### For Elastic Stack guidance, see [Elastic Stack and Product Documentation](https://www.elastic.co/guide/index.html)"
   ]
  },
  {
   "cell_type": "markdown",
   "metadata": {},
   "source": [
    "### Python Elasticsearch Client docs: http://elasticsearch-py.readthedocs.io"
   ]
  },
  {
   "cell_type": "markdown",
   "metadata": {},
   "source": [
    "#### Note: To run this notebook, ensure an elasticsearch instance is active on localhost:9200."
   ]
  },
  {
   "cell_type": "markdown",
   "metadata": {},
   "source": [
    "### Import necessary modules"
   ]
  },
  {
   "cell_type": "code",
   "execution_count": 1,
   "metadata": {},
   "outputs": [],
   "source": [
    "import elasticsearch\n",
    "import elasticsearch_dsl\n",
    "from IPython.core.interactiveshell import InteractiveShell\n",
    "import pandas as pd\n",
    "import pathlib\n",
    "from pprint import pprint\n",
    "import time\n",
    "import twittertools  # my local twittertools.py module"
   ]
  },
  {
   "cell_type": "code",
   "execution_count": 2,
   "metadata": {},
   "outputs": [],
   "source": [
    "InteractiveShell.ast_node_interactivity = 'all'"
   ]
  },
  {
   "cell_type": "code",
   "execution_count": 3,
   "metadata": {},
   "outputs": [],
   "source": [
    "def cat_DataFrame(command):\n",
    "    \"\"\"\n",
    "    Execute the input _cat command as verbose json,\n",
    "    returning a pandas DataFrame for tabular output.\n",
    "    \"\"\"\n",
    "    return pd.DataFrame(command(format='json', v=True))"
   ]
  },
  {
   "cell_type": "markdown",
   "metadata": {},
   "source": [
    "### Instantiate Elasticsearch object"
   ]
  },
  {
   "cell_type": "code",
   "execution_count": 4,
   "metadata": {},
   "outputs": [],
   "source": [
    "# Default connection to localhost:9200\n",
    "es = elasticsearch.Elasticsearch()"
   ]
  },
  {
   "cell_type": "markdown",
   "metadata": {},
   "source": [
    "### Print system information for reference"
   ]
  },
  {
   "cell_type": "code",
   "execution_count": 5,
   "metadata": {},
   "outputs": [
    {
     "name": "stdout",
     "output_type": "stream",
     "text": [
      "Health:\n"
     ]
    },
    {
     "data": {
      "text/html": [
       "<div>\n",
       "<style scoped>\n",
       "    .dataframe tbody tr th:only-of-type {\n",
       "        vertical-align: middle;\n",
       "    }\n",
       "\n",
       "    .dataframe tbody tr th {\n",
       "        vertical-align: top;\n",
       "    }\n",
       "\n",
       "    .dataframe thead th {\n",
       "        text-align: right;\n",
       "    }\n",
       "</style>\n",
       "<table border=\"1\" class=\"dataframe\">\n",
       "  <thead>\n",
       "    <tr style=\"text-align: right;\">\n",
       "      <th></th>\n",
       "      <th>active_shards_percent</th>\n",
       "      <th>cluster</th>\n",
       "      <th>epoch</th>\n",
       "      <th>init</th>\n",
       "      <th>max_task_wait_time</th>\n",
       "      <th>node.data</th>\n",
       "      <th>node.total</th>\n",
       "      <th>pending_tasks</th>\n",
       "      <th>pri</th>\n",
       "      <th>relo</th>\n",
       "      <th>shards</th>\n",
       "      <th>status</th>\n",
       "      <th>timestamp</th>\n",
       "      <th>unassign</th>\n",
       "    </tr>\n",
       "  </thead>\n",
       "  <tbody>\n",
       "    <tr>\n",
       "      <th>0</th>\n",
       "      <td>50.0%</td>\n",
       "      <td>elasticsearch</td>\n",
       "      <td>1512670835</td>\n",
       "      <td>0</td>\n",
       "      <td>-</td>\n",
       "      <td>1</td>\n",
       "      <td>1</td>\n",
       "      <td>0</td>\n",
       "      <td>6</td>\n",
       "      <td>0</td>\n",
       "      <td>6</td>\n",
       "      <td>yellow</td>\n",
       "      <td>11:20:35</td>\n",
       "      <td>6</td>\n",
       "    </tr>\n",
       "  </tbody>\n",
       "</table>\n",
       "</div>"
      ],
      "text/plain": [
       "  active_shards_percent        cluster       epoch init max_task_wait_time  \\\n",
       "0                 50.0%  elasticsearch  1512670835    0                  -   \n",
       "\n",
       "  node.data node.total pending_tasks pri relo shards  status timestamp  \\\n",
       "0         1          1             0   6    0      6  yellow  11:20:35   \n",
       "\n",
       "  unassign  \n",
       "0        6  "
      ]
     },
     "execution_count": 5,
     "metadata": {},
     "output_type": "execute_result"
    },
    {
     "name": "stdout",
     "output_type": "stream",
     "text": [
      "Nodes:\n"
     ]
    },
    {
     "data": {
      "text/html": [
       "<div>\n",
       "<style scoped>\n",
       "    .dataframe tbody tr th:only-of-type {\n",
       "        vertical-align: middle;\n",
       "    }\n",
       "\n",
       "    .dataframe tbody tr th {\n",
       "        vertical-align: top;\n",
       "    }\n",
       "\n",
       "    .dataframe thead th {\n",
       "        text-align: right;\n",
       "    }\n",
       "</style>\n",
       "<table border=\"1\" class=\"dataframe\">\n",
       "  <thead>\n",
       "    <tr style=\"text-align: right;\">\n",
       "      <th></th>\n",
       "      <th>cpu</th>\n",
       "      <th>heap.percent</th>\n",
       "      <th>ip</th>\n",
       "      <th>load_15m</th>\n",
       "      <th>load_1m</th>\n",
       "      <th>load_5m</th>\n",
       "      <th>master</th>\n",
       "      <th>name</th>\n",
       "      <th>node.role</th>\n",
       "      <th>ram.percent</th>\n",
       "    </tr>\n",
       "  </thead>\n",
       "  <tbody>\n",
       "    <tr>\n",
       "      <th>0</th>\n",
       "      <td>19</td>\n",
       "      <td>33</td>\n",
       "      <td>127.0.0.1</td>\n",
       "      <td>0.44</td>\n",
       "      <td>0.43</td>\n",
       "      <td>0.34</td>\n",
       "      <td>*</td>\n",
       "      <td>1Y86nkN</td>\n",
       "      <td>mdi</td>\n",
       "      <td>29</td>\n",
       "    </tr>\n",
       "  </tbody>\n",
       "</table>\n",
       "</div>"
      ],
      "text/plain": [
       "  cpu heap.percent         ip load_15m load_1m load_5m master     name  \\\n",
       "0  19           33  127.0.0.1     0.44    0.43    0.34      *  1Y86nkN   \n",
       "\n",
       "  node.role ram.percent  \n",
       "0       mdi          29  "
      ]
     },
     "execution_count": 5,
     "metadata": {},
     "output_type": "execute_result"
    },
    {
     "name": "stdout",
     "output_type": "stream",
     "text": [
      "Shards:\n"
     ]
    },
    {
     "data": {
      "text/html": [
       "<div>\n",
       "<style scoped>\n",
       "    .dataframe tbody tr th:only-of-type {\n",
       "        vertical-align: middle;\n",
       "    }\n",
       "\n",
       "    .dataframe tbody tr th {\n",
       "        vertical-align: top;\n",
       "    }\n",
       "\n",
       "    .dataframe thead th {\n",
       "        text-align: right;\n",
       "    }\n",
       "</style>\n",
       "<table border=\"1\" class=\"dataframe\">\n",
       "  <thead>\n",
       "    <tr style=\"text-align: right;\">\n",
       "      <th></th>\n",
       "      <th>docs</th>\n",
       "      <th>index</th>\n",
       "      <th>ip</th>\n",
       "      <th>node</th>\n",
       "      <th>prirep</th>\n",
       "      <th>shard</th>\n",
       "      <th>state</th>\n",
       "      <th>store</th>\n",
       "    </tr>\n",
       "  </thead>\n",
       "  <tbody>\n",
       "    <tr>\n",
       "      <th>0</th>\n",
       "      <td>2504</td>\n",
       "      <td>twitter</td>\n",
       "      <td>127.0.0.1</td>\n",
       "      <td>1Y86nkN</td>\n",
       "      <td>p</td>\n",
       "      <td>2</td>\n",
       "      <td>STARTED</td>\n",
       "      <td>1.6mb</td>\n",
       "    </tr>\n",
       "    <tr>\n",
       "      <th>1</th>\n",
       "      <td>None</td>\n",
       "      <td>twitter</td>\n",
       "      <td>None</td>\n",
       "      <td>None</td>\n",
       "      <td>r</td>\n",
       "      <td>2</td>\n",
       "      <td>UNASSIGNED</td>\n",
       "      <td>None</td>\n",
       "    </tr>\n",
       "    <tr>\n",
       "      <th>2</th>\n",
       "      <td>2600</td>\n",
       "      <td>twitter</td>\n",
       "      <td>127.0.0.1</td>\n",
       "      <td>1Y86nkN</td>\n",
       "      <td>p</td>\n",
       "      <td>3</td>\n",
       "      <td>STARTED</td>\n",
       "      <td>1.7mb</td>\n",
       "    </tr>\n",
       "    <tr>\n",
       "      <th>3</th>\n",
       "      <td>None</td>\n",
       "      <td>twitter</td>\n",
       "      <td>None</td>\n",
       "      <td>None</td>\n",
       "      <td>r</td>\n",
       "      <td>3</td>\n",
       "      <td>UNASSIGNED</td>\n",
       "      <td>None</td>\n",
       "    </tr>\n",
       "    <tr>\n",
       "      <th>4</th>\n",
       "      <td>2599</td>\n",
       "      <td>twitter</td>\n",
       "      <td>127.0.0.1</td>\n",
       "      <td>1Y86nkN</td>\n",
       "      <td>p</td>\n",
       "      <td>4</td>\n",
       "      <td>STARTED</td>\n",
       "      <td>1.7mb</td>\n",
       "    </tr>\n",
       "    <tr>\n",
       "      <th>5</th>\n",
       "      <td>None</td>\n",
       "      <td>twitter</td>\n",
       "      <td>None</td>\n",
       "      <td>None</td>\n",
       "      <td>r</td>\n",
       "      <td>4</td>\n",
       "      <td>UNASSIGNED</td>\n",
       "      <td>None</td>\n",
       "    </tr>\n",
       "    <tr>\n",
       "      <th>6</th>\n",
       "      <td>2549</td>\n",
       "      <td>twitter</td>\n",
       "      <td>127.0.0.1</td>\n",
       "      <td>1Y86nkN</td>\n",
       "      <td>p</td>\n",
       "      <td>1</td>\n",
       "      <td>STARTED</td>\n",
       "      <td>1.7mb</td>\n",
       "    </tr>\n",
       "    <tr>\n",
       "      <th>7</th>\n",
       "      <td>None</td>\n",
       "      <td>twitter</td>\n",
       "      <td>None</td>\n",
       "      <td>None</td>\n",
       "      <td>r</td>\n",
       "      <td>1</td>\n",
       "      <td>UNASSIGNED</td>\n",
       "      <td>None</td>\n",
       "    </tr>\n",
       "    <tr>\n",
       "      <th>8</th>\n",
       "      <td>2623</td>\n",
       "      <td>twitter</td>\n",
       "      <td>127.0.0.1</td>\n",
       "      <td>1Y86nkN</td>\n",
       "      <td>p</td>\n",
       "      <td>0</td>\n",
       "      <td>STARTED</td>\n",
       "      <td>1.7mb</td>\n",
       "    </tr>\n",
       "    <tr>\n",
       "      <th>9</th>\n",
       "      <td>None</td>\n",
       "      <td>twitter</td>\n",
       "      <td>None</td>\n",
       "      <td>None</td>\n",
       "      <td>r</td>\n",
       "      <td>0</td>\n",
       "      <td>UNASSIGNED</td>\n",
       "      <td>None</td>\n",
       "    </tr>\n",
       "    <tr>\n",
       "      <th>10</th>\n",
       "      <td>2</td>\n",
       "      <td>.kibana</td>\n",
       "      <td>127.0.0.1</td>\n",
       "      <td>1Y86nkN</td>\n",
       "      <td>p</td>\n",
       "      <td>0</td>\n",
       "      <td>STARTED</td>\n",
       "      <td>10.9kb</td>\n",
       "    </tr>\n",
       "    <tr>\n",
       "      <th>11</th>\n",
       "      <td>None</td>\n",
       "      <td>.kibana</td>\n",
       "      <td>None</td>\n",
       "      <td>None</td>\n",
       "      <td>r</td>\n",
       "      <td>0</td>\n",
       "      <td>UNASSIGNED</td>\n",
       "      <td>None</td>\n",
       "    </tr>\n",
       "  </tbody>\n",
       "</table>\n",
       "</div>"
      ],
      "text/plain": [
       "    docs    index         ip     node prirep shard       state   store\n",
       "0   2504  twitter  127.0.0.1  1Y86nkN      p     2     STARTED   1.6mb\n",
       "1   None  twitter       None     None      r     2  UNASSIGNED    None\n",
       "2   2600  twitter  127.0.0.1  1Y86nkN      p     3     STARTED   1.7mb\n",
       "3   None  twitter       None     None      r     3  UNASSIGNED    None\n",
       "4   2599  twitter  127.0.0.1  1Y86nkN      p     4     STARTED   1.7mb\n",
       "5   None  twitter       None     None      r     4  UNASSIGNED    None\n",
       "6   2549  twitter  127.0.0.1  1Y86nkN      p     1     STARTED   1.7mb\n",
       "7   None  twitter       None     None      r     1  UNASSIGNED    None\n",
       "8   2623  twitter  127.0.0.1  1Y86nkN      p     0     STARTED   1.7mb\n",
       "9   None  twitter       None     None      r     0  UNASSIGNED    None\n",
       "10     2  .kibana  127.0.0.1  1Y86nkN      p     0     STARTED  10.9kb\n",
       "11  None  .kibana       None     None      r     0  UNASSIGNED    None"
      ]
     },
     "execution_count": 5,
     "metadata": {},
     "output_type": "execute_result"
    },
    {
     "name": "stdout",
     "output_type": "stream",
     "text": [
      "Indices:\n"
     ]
    },
    {
     "data": {
      "text/html": [
       "<div>\n",
       "<style scoped>\n",
       "    .dataframe tbody tr th:only-of-type {\n",
       "        vertical-align: middle;\n",
       "    }\n",
       "\n",
       "    .dataframe tbody tr th {\n",
       "        vertical-align: top;\n",
       "    }\n",
       "\n",
       "    .dataframe thead th {\n",
       "        text-align: right;\n",
       "    }\n",
       "</style>\n",
       "<table border=\"1\" class=\"dataframe\">\n",
       "  <thead>\n",
       "    <tr style=\"text-align: right;\">\n",
       "      <th></th>\n",
       "      <th>docs.count</th>\n",
       "      <th>docs.deleted</th>\n",
       "      <th>health</th>\n",
       "      <th>index</th>\n",
       "      <th>pri</th>\n",
       "      <th>pri.store.size</th>\n",
       "      <th>rep</th>\n",
       "      <th>status</th>\n",
       "      <th>store.size</th>\n",
       "      <th>uuid</th>\n",
       "    </tr>\n",
       "  </thead>\n",
       "  <tbody>\n",
       "    <tr>\n",
       "      <th>0</th>\n",
       "      <td>2</td>\n",
       "      <td>0</td>\n",
       "      <td>yellow</td>\n",
       "      <td>.kibana</td>\n",
       "      <td>1</td>\n",
       "      <td>10.9kb</td>\n",
       "      <td>1</td>\n",
       "      <td>open</td>\n",
       "      <td>10.9kb</td>\n",
       "      <td>Yuy-vovlQyeUPVim2PcdFw</td>\n",
       "    </tr>\n",
       "    <tr>\n",
       "      <th>1</th>\n",
       "      <td>12875</td>\n",
       "      <td>0</td>\n",
       "      <td>yellow</td>\n",
       "      <td>twitter</td>\n",
       "      <td>5</td>\n",
       "      <td>8.6mb</td>\n",
       "      <td>1</td>\n",
       "      <td>open</td>\n",
       "      <td>8.6mb</td>\n",
       "      <td>GaS-KKppRM6IP2bqy6QQ5w</td>\n",
       "    </tr>\n",
       "  </tbody>\n",
       "</table>\n",
       "</div>"
      ],
      "text/plain": [
       "  docs.count docs.deleted  health    index pri pri.store.size rep status  \\\n",
       "0          2            0  yellow  .kibana   1         10.9kb   1   open   \n",
       "1      12875            0  yellow  twitter   5          8.6mb   1   open   \n",
       "\n",
       "  store.size                    uuid  \n",
       "0     10.9kb  Yuy-vovlQyeUPVim2PcdFw  \n",
       "1      8.6mb  GaS-KKppRM6IP2bqy6QQ5w  "
      ]
     },
     "execution_count": 5,
     "metadata": {},
     "output_type": "execute_result"
    }
   ],
   "source": [
    "reports = [('Health:', es.cat.health), ('Nodes:', es.cat.nodes),\n",
    "           ('Shards:', es.cat.shards), ('Indices:', es.cat.indices)]\n",
    "for name, report in reports:\n",
    "    print(name)\n",
    "    cat_DataFrame(report)"
   ]
  },
  {
   "cell_type": "markdown",
   "metadata": {},
   "source": [
    "### Get tweets from a few Twitter user timelines; index them in Elasticsearch"
   ]
  },
  {
   "cell_type": "code",
   "execution_count": 6,
   "metadata": {},
   "outputs": [],
   "source": [
    "# For this demonstration only, delete any existing /twitter index\n",
    "result = es.indices.delete(index='twitter', ignore=[400, 404])"
   ]
  },
  {
   "cell_type": "code",
   "execution_count": 7,
   "metadata": {},
   "outputs": [],
   "source": [
    "# Create Authenticated TwitterTools object\n",
    "filepath = pathlib.Path.home().joinpath('.twitter', 'credentials.json')\n",
    "twt = twittertools.TwitterTools(filepath)"
   ]
  },
  {
   "cell_type": "code",
   "execution_count": 8,
   "metadata": {},
   "outputs": [
    {
     "name": "stdout",
     "output_type": "stream",
     "text": [
      "3206 tweets retrieved from @pourmecoffee's timeline; 3206 indexed\n",
      "3234 tweets retrieved from @washingtonpost's timeline; 3234 indexed\n",
      "3235 tweets retrieved from @brainpicker's timeline; 3235 indexed\n",
      "3203 tweets retrieved from @wilw's timeline; 3203 indexed\n",
      "Total tweets indexed: 12878\n"
     ]
    }
   ],
   "source": [
    "all_indexed = 0\n",
    "total_tweets = 0\n",
    "screen_names = ['pourmecoffee', 'washingtonpost', 'brainpicker', 'wilw']\n",
    "for screen_name in screen_names: \n",
    "    tweets = twt.get_user_timeline(screen_name)\n",
    "    total_tweets += len(tweets)\n",
    "    print(f\"{len(tweets)} tweets retrieved from @{screen_name}'s timeline;\", end=' ')\n",
    "    total_indexed = 0\n",
    "    for tweet in tweets:\n",
    "        doc = twittertools.unpack_tweet(tweet)\n",
    "        result = es.index(index='twitter', doc_type='tweet', body=doc)\n",
    "        if result['_shards']['successful']:\n",
    "            total_indexed += 1\n",
    "    print(f'{total_indexed} indexed', flush=True)\n",
    "    all_indexed += total_indexed\n",
    "print('Total tweets indexed:', all_indexed)"
   ]
  },
  {
   "cell_type": "markdown",
   "metadata": {},
   "source": [
    "### Confirm number of tweets indexed"
   ]
  },
  {
   "cell_type": "code",
   "execution_count": 9,
   "metadata": {},
   "outputs": [
    {
     "name": "stdout",
     "output_type": "stream",
     "text": [
      "\n",
      "Found 12878 indexed tweets\n"
     ]
    }
   ],
   "source": [
    "# Expect latency (about 1 sec.) between indexing and getting\n",
    "# complete search results. Introduce a short wait...\n",
    "\n",
    "sleep_wait = 0.50\n",
    "sleep_count = 0\n",
    "search = elasticsearch_dsl.Search(using=es, index='twitter', doc_type='tweet')\n",
    "while True:\n",
    "    doc_count = search.count()\n",
    "    if doc_count == all_indexed:\n",
    "        break\n",
    "    sleep_count += 1\n",
    "    if sleep_count*sleep_wait > 5.0:  # seconds\n",
    "        break\n",
    "    time.sleep(sleep_wait)\n",
    "print(f'\\nFound {doc_count} indexed tweets')"
   ]
  },
  {
   "cell_type": "markdown",
   "metadata": {},
   "source": [
    "### Inspect all index settings and mappings"
   ]
  },
  {
   "cell_type": "code",
   "execution_count": 10,
   "metadata": {},
   "outputs": [
    {
     "name": "stdout",
     "output_type": "stream",
     "text": [
      "\"twitter\" index settings:\n",
      "{'settings': {'index': {'creation_date': '1512670850737',\n",
      "                        'number_of_replicas': '1',\n",
      "                        'number_of_shards': '5',\n",
      "                        'provided_name': 'twitter',\n",
      "                        'uuid': '2YNQm4K9RmuJE0XJ7wJoNA',\n",
      "                        'version': {'created': '6000099'}}}}\n",
      "\".kibana\" index settings:\n",
      "{'settings': {'index': {'creation_date': '1511908972927',\n",
      "                        'number_of_replicas': '1',\n",
      "                        'number_of_shards': '1',\n",
      "                        'provided_name': '.kibana',\n",
      "                        'uuid': 'Yuy-vovlQyeUPVim2PcdFw',\n",
      "                        'version': {'created': '6000099'}}}}\n"
     ]
    }
   ],
   "source": [
    "all_indices = elasticsearch_dsl.Index('_all', using=es)\n",
    "for index_name, index_object in all_indices.get_settings().items():\n",
    "    print(f'\"{index_name}\" index settings:')\n",
    "    pprint(index_object)"
   ]
  },
  {
   "cell_type": "code",
   "execution_count": 11,
   "metadata": {},
   "outputs": [
    {
     "name": "stdout",
     "output_type": "stream",
     "text": [
      "\"twitter\" index mapping:\n"
     ]
    },
    {
     "data": {
      "text/plain": [
       "{'mappings': {'tweet': {'properties': {'created': {'type': 'date'},\n",
       "    'expanded_urls': {'fields': {'keyword': {'ignore_above': 256,\n",
       "       'type': 'keyword'}},\n",
       "     'type': 'text'},\n",
       "    'hashtags': {'fields': {'keyword': {'ignore_above': 256,\n",
       "       'type': 'keyword'}},\n",
       "     'type': 'text'},\n",
       "    'media_types': {'fields': {'keyword': {'ignore_above': 256,\n",
       "       'type': 'keyword'}},\n",
       "     'type': 'text'},\n",
       "    'media_urls': {'fields': {'keyword': {'ignore_above': 256,\n",
       "       'type': 'keyword'}},\n",
       "     'type': 'text'},\n",
       "    'mentions': {'fields': {'keyword': {'ignore_above': 256,\n",
       "       'type': 'keyword'}},\n",
       "     'type': 'text'},\n",
       "    'retweet_count': {'type': 'long'},\n",
       "    'screen_name': {'fields': {'keyword': {'ignore_above': 256,\n",
       "       'type': 'keyword'}},\n",
       "     'type': 'text'},\n",
       "    'text': {'fields': {'keyword': {'ignore_above': 256, 'type': 'keyword'}},\n",
       "     'type': 'text'},\n",
       "    'tweet_id': {'fields': {'keyword': {'ignore_above': 256,\n",
       "       'type': 'keyword'}},\n",
       "     'type': 'text'},\n",
       "    'urls': {'fields': {'keyword': {'ignore_above': 256, 'type': 'keyword'}},\n",
       "     'type': 'text'}}}}}"
      ]
     },
     "execution_count": 11,
     "metadata": {},
     "output_type": "execute_result"
    },
    {
     "name": "stdout",
     "output_type": "stream",
     "text": [
      "\".kibana\" index mapping:\n"
     ]
    },
    {
     "data": {
      "text/plain": [
       "{'mappings': {'doc': {'dynamic': 'strict',\n",
       "   'properties': {'config': {'dynamic': 'true',\n",
       "     'properties': {'buildNum': {'type': 'keyword'},\n",
       "      'defaultIndex': {'fields': {'keyword': {'ignore_above': 256,\n",
       "         'type': 'keyword'}},\n",
       "       'type': 'text'}}},\n",
       "    'dashboard': {'properties': {'description': {'type': 'text'},\n",
       "      'hits': {'type': 'integer'},\n",
       "      'kibanaSavedObjectMeta': {'properties': {'searchSourceJSON': {'type': 'text'}}},\n",
       "      'optionsJSON': {'type': 'text'},\n",
       "      'panelsJSON': {'type': 'text'},\n",
       "      'refreshInterval': {'properties': {'display': {'type': 'keyword'},\n",
       "        'pause': {'type': 'boolean'},\n",
       "        'section': {'type': 'integer'},\n",
       "        'value': {'type': 'integer'}}},\n",
       "      'timeFrom': {'type': 'keyword'},\n",
       "      'timeRestore': {'type': 'boolean'},\n",
       "      'timeTo': {'type': 'keyword'},\n",
       "      'title': {'type': 'text'},\n",
       "      'uiStateJSON': {'type': 'text'},\n",
       "      'version': {'type': 'integer'}}},\n",
       "    'index-pattern': {'properties': {'fieldFormatMap': {'type': 'text'},\n",
       "      'fields': {'type': 'text'},\n",
       "      'intervalName': {'type': 'keyword'},\n",
       "      'notExpandable': {'type': 'boolean'},\n",
       "      'sourceFilters': {'type': 'text'},\n",
       "      'timeFieldName': {'type': 'keyword'},\n",
       "      'title': {'type': 'text'}}},\n",
       "    'search': {'properties': {'columns': {'type': 'keyword'},\n",
       "      'description': {'type': 'text'},\n",
       "      'hits': {'type': 'integer'},\n",
       "      'kibanaSavedObjectMeta': {'properties': {'searchSourceJSON': {'type': 'text'}}},\n",
       "      'sort': {'type': 'keyword'},\n",
       "      'title': {'type': 'text'},\n",
       "      'version': {'type': 'integer'}}},\n",
       "    'server': {'properties': {'uuid': {'type': 'keyword'}}},\n",
       "    'timelion-sheet': {'properties': {'description': {'type': 'text'},\n",
       "      'hits': {'type': 'integer'},\n",
       "      'kibanaSavedObjectMeta': {'properties': {'searchSourceJSON': {'type': 'text'}}},\n",
       "      'timelion_chart_height': {'type': 'integer'},\n",
       "      'timelion_columns': {'type': 'integer'},\n",
       "      'timelion_interval': {'type': 'keyword'},\n",
       "      'timelion_other_interval': {'type': 'keyword'},\n",
       "      'timelion_rows': {'type': 'integer'},\n",
       "      'timelion_sheet': {'type': 'text'},\n",
       "      'title': {'type': 'text'},\n",
       "      'version': {'type': 'integer'}}},\n",
       "    'type': {'type': 'keyword'},\n",
       "    'url': {'properties': {'accessCount': {'type': 'long'},\n",
       "      'accessDate': {'type': 'date'},\n",
       "      'createDate': {'type': 'date'},\n",
       "      'url': {'fields': {'keyword': {'ignore_above': 2048, 'type': 'keyword'}},\n",
       "       'type': 'text'}}},\n",
       "    'visualization': {'properties': {'description': {'type': 'text'},\n",
       "      'kibanaSavedObjectMeta': {'properties': {'searchSourceJSON': {'type': 'text'}}},\n",
       "      'savedSearchId': {'type': 'keyword'},\n",
       "      'title': {'type': 'text'},\n",
       "      'uiStateJSON': {'type': 'text'},\n",
       "      'version': {'type': 'integer'},\n",
       "      'visState': {'type': 'text'}}}}}}}"
      ]
     },
     "execution_count": 11,
     "metadata": {},
     "output_type": "execute_result"
    }
   ],
   "source": [
    "for index_name, index_object in all_indices.get_mapping().items():\n",
    "    print(f'\"{index_name}\" index mapping:')\n",
    "    index_object"
   ]
  },
  {
   "cell_type": "markdown",
   "metadata": {},
   "source": [
    "### Perform a simple match query on tweet texts"
   ]
  },
  {
   "cell_type": "code",
   "execution_count": 12,
   "metadata": {},
   "outputs": [
    {
     "name": "stdout",
     "output_type": "stream",
     "text": [
      "Got 36 matches\n",
      "Top ten by relevance score:\n",
      "- pourmecoffee 2017-06-29T17:40:25Z @NASA @CassiniSaturn pierogi mmm\n",
      "- pourmecoffee 2017-06-05T22:31:52Z @NASA Like my tweets.\n",
      "- pourmecoffee 2017-07-12T18:24:04Z @NASA Finally some non-Manhatten-sized icebergs.\n",
      "- pourmecoffee 2017-08-18T11:51:27Z @NASA @NASA_TDRS You're firing on Earth do you take me for a fool?\n",
      "- pourmecoffee 2017-09-07T22:54:20Z Rare shot from NASA of Carl Sagan just minutes after he landed on Earth. https://t.co/XlXNWKubTn\n",
      "- pourmecoffee 2017-06-27T21:43:45Z The broadcast is: \"prepare to die.\" \"NASA Celebrates International Asteroid Day with Special Broadcast\" https://t.co/5MU83MlESQ\n",
      "- washingtonpost 2017-11-19T15:04:44Z Perspective: Please stop annoying this NASA scientist with your ridiculous Planet X doomsday theories https://t.co/soTGVzQqqm\n",
      "- washingtonpost 2017-11-28T18:58:00Z A NASA astronaut films his spacewalk — and a breathtaking view of Earth https://t.co/3WrPgggQVF\n",
      "- washingtonpost 2017-11-29T08:05:43Z A NASA astronaut films his spacewalk — and a breathtaking view of Earth https://t.co/ZaCEVRbTME\n",
      "- pourmecoffee 2017-06-21T18:33:45Z Here's NASA reconnaissance orbiter catching Curiosity Rover doing its work. On Mars. The planet. In space… https://t.co/0Vh2pLOGQj\n"
     ]
    }
   ],
   "source": [
    "results = search.query(\"match\", text=\"NASA\").execute()\n",
    "print(f'Got {results[\"hits\"][\"total\"]} matches')\n",
    "print('Top ten by relevance score:')\n",
    "for hit in results['hits']['hits']:\n",
    "    tweet = hit['_source']\n",
    "    print('-', tweet['screen_name'], tweet['created'], tweet['text'])"
   ]
  }
 ],
 "metadata": {
  "kernelspec": {
   "display_name": "Python 3",
   "language": "python",
   "name": "python3"
  },
  "language_info": {
   "codemirror_mode": {
    "name": "ipython",
    "version": 3
   },
   "file_extension": ".py",
   "mimetype": "text/x-python",
   "name": "python",
   "nbconvert_exporter": "python",
   "pygments_lexer": "ipython3",
   "version": "3.6.3"
  }
 },
 "nbformat": 4,
 "nbformat_minor": 2
}
