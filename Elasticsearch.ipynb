{
 "cells": [
  {
   "cell_type": "markdown",
   "metadata": {},
   "source": [
    "### Import necessary modules"
   ]
  },
  {
   "cell_type": "code",
   "execution_count": 1,
   "metadata": {},
   "outputs": [],
   "source": [
    "import json\n",
    "import pathlib\n",
    "import requests\n",
    "import time\n",
    "# twittertools from local twittertools.py\n",
    "import twittertools"
   ]
  },
  {
   "cell_type": "markdown",
   "metadata": {},
   "source": [
    "### Define Elasticsearch server URI"
   ]
  },
  {
   "cell_type": "code",
   "execution_count": 2,
   "metadata": {},
   "outputs": [],
   "source": [
    "elasticsearch_server = 'http://localhost:9200'"
   ]
  },
  {
   "cell_type": "markdown",
   "metadata": {},
   "source": [
    "### Create Elasticsearch indices"
   ]
  },
  {
   "cell_type": "code",
   "execution_count": 3,
   "metadata": {},
   "outputs": [],
   "source": [
    "def create_index(index):\n",
    "    # ensure index has no leading '/'\n",
    "    index = index.replace('/', '', 1)\n",
    "    # For this demo only, delete any existing index\n",
    "    try:\n",
    "        uri = elasticsearch_server + '/' + index\n",
    "        requests.delete(uri)\n",
    "    except requests.exceptions.ConnectionError:\n",
    "        print(f'Connection error for URI {uri}')\n",
    "        raise\n",
    "    \n",
    "    # Create index\n",
    "    try:\n",
    "        uri = elasticsearch_server + '/' + index\n",
    "        requests.put(uri)\n",
    "    except requests.exceptions.ConnectionError:\n",
    "        print(f'Connection error for URI {uri}')\n",
    "        raise"
   ]
  },
  {
   "cell_type": "code",
   "execution_count": 4,
   "metadata": {},
   "outputs": [],
   "source": [
    "create_index('tweets')\n",
    "create_index('twitter-users')"
   ]
  },
  {
   "cell_type": "code",
   "execution_count": 5,
   "metadata": {},
   "outputs": [
    {
     "name": "stdout",
     "output_type": "stream",
     "text": [
      "yellow open .kibana       Yuy-vovlQyeUPVim2PcdFw 1 1 2 0 10.9kb 10.9kb\n",
      "yellow open twitter-users O0rQzOOuRpS2B9G4VoA4xQ 5 1 0 0  1.1kb  1.1kb\n",
      "yellow open tweets        IHfw8LIFRZKjRyRcak1J6g 5 1 0 0  1.1kb  1.1kb\n",
      "\n"
     ]
    }
   ],
   "source": [
    "# Confirm indices were created\n",
    "r = requests.get(elasticsearch_server + '/_cat/indices')\n",
    "print(r.text)"
   ]
  },
  {
   "cell_type": "markdown",
   "metadata": {},
   "source": [
    "### Create Authenticated TwitterTools object"
   ]
  },
  {
   "cell_type": "code",
   "execution_count": 6,
   "metadata": {},
   "outputs": [],
   "source": [
    "filepath = pathlib.Path.home().joinpath('.twitter', 'credentials.json')\n",
    "twt = twittertools.TwitterTools(filepath)"
   ]
  },
  {
   "cell_type": "markdown",
   "metadata": {},
   "source": [
    "### Get tweets from @pourmecoffee's timeline"
   ]
  },
  {
   "cell_type": "code",
   "execution_count": 7,
   "metadata": {},
   "outputs": [
    {
     "name": "stdout",
     "output_type": "stream",
     "text": [
      "3242 tweets retrieved from @pourmecoffee's timeline\n"
     ]
    }
   ],
   "source": [
    "screen_name = 'pourmecoffee'\n",
    "tweets = twt.get_user_timeline(screen_name)\n",
    "print(f\"{len(tweets)} tweets retrieved from @{screen_name}'s timeline\")"
   ]
  },
  {
   "cell_type": "markdown",
   "metadata": {},
   "source": [
    "### Add all tweets to twitter/tweets"
   ]
  },
  {
   "cell_type": "code",
   "execution_count": 8,
   "metadata": {},
   "outputs": [
    {
     "name": "stdout",
     "output_type": "stream",
     "text": [
      "3242 tweets indexed\n"
     ]
    }
   ],
   "source": [
    "uri = elasticsearch_server + '/tweets/objects/'\n",
    "success = 0\n",
    "for tweet in tweets:\n",
    "    _source = twittertools.unpack_tweet(tweet)\n",
    "    r = requests.post(uri, json=_source)\n",
    "    if r.status_code in [200, 201]:\n",
    "        success += 1\n",
    "print(f'{success} tweets indexed')"
   ]
  },
  {
   "cell_type": "markdown",
   "metadata": {},
   "source": [
    "### Confirm number of tweets added to twitter/tweets"
   ]
  },
  {
   "cell_type": "code",
   "execution_count": 9,
   "metadata": {},
   "outputs": [
    {
     "name": "stdout",
     "output_type": "stream",
     "text": [
      "Found 3084 of 3242 tweets. Sleeping for 0.25 seconds.\n",
      "Found all 3242 tweets!\n"
     ]
    }
   ],
   "source": [
    "sleep_time = 0.250\n",
    "while True:\n",
    "    uri = elasticsearch_server + '/tweets/objects/_search?q=*'\n",
    "    r = requests.get(uri)\n",
    "    results = dict(r.json())\n",
    "    total = results['hits']['total']\n",
    "    if total != success:\n",
    "        print(f'Found {total} of {success} tweets. Sleeping for {sleep_time} seconds.')\n",
    "        time.sleep(sleep_time)\n",
    "    else:\n",
    "        print(f'Found all {total} tweets!')\n",
    "        break"
   ]
  },
  {
   "cell_type": "code",
   "execution_count": 10,
   "metadata": {},
   "outputs": [
    {
     "name": "stdout",
     "output_type": "stream",
     "text": [
      "5 profiles indexed\n"
     ]
    }
   ],
   "source": [
    "screen_names = ['elastic', 'pourmecoffee', 'washingtonpost', 'BarackObama', 'NateSilver538']\n",
    "profiles = twt.get_user_profiles(screen_names=screen_names)\n",
    "uri = elasticsearch_server + '/users/objects/'\n",
    "success = 0\n",
    "for profile in profiles:\n",
    "    _source = twittertools.unpack_profile(profile)\n",
    "    r = requests.post(uri, json=_source)\n",
    "    if r.status_code in [200, 201]:\n",
    "        success += 1\n",
    "    else:\n",
    "        print(r.text)\n",
    "print(f'{success} profiles indexed')"
   ]
  },
  {
   "cell_type": "code",
   "execution_count": 11,
   "metadata": {},
   "outputs": [
    {
     "name": "stdout",
     "output_type": "stream",
     "text": [
      "Found 0 of 5 user profiles. Sleeping for 0.25 seconds.\n",
      "Found 0 of 5 user profiles. Sleeping for 0.25 seconds.\n",
      "Found 0 of 5 user profiles. Sleeping for 0.25 seconds.\n",
      "Found 0 of 5 user profiles. Sleeping for 0.25 seconds.\n",
      "Found all 5 user profiles!\n"
     ]
    }
   ],
   "source": [
    "sleep_time = 0.250\n",
    "while True:\n",
    "    uri = elasticsearch_server + '/users/objects/_search?q=*'\n",
    "    r = requests.get(uri)\n",
    "    results = dict(r.json())\n",
    "    total = results['hits']['total']\n",
    "    if total != success:\n",
    "        print(f'Found {total} of {success} user profiles. Sleeping for {sleep_time} seconds.')\n",
    "        time.sleep(sleep_time)\n",
    "    else:\n",
    "        print(f'Found all {total} user profiles!')\n",
    "        break"
   ]
  }
 ],
 "metadata": {
  "kernelspec": {
   "display_name": "Python 3",
   "language": "python",
   "name": "python3"
  },
  "language_info": {
   "codemirror_mode": {
    "name": "ipython",
    "version": 3
   },
   "file_extension": ".py",
   "mimetype": "text/x-python",
   "name": "python",
   "nbconvert_exporter": "python",
   "pygments_lexer": "ipython3",
   "version": "3.6.3"
  }
 },
 "nbformat": 4,
 "nbformat_minor": 2
}
