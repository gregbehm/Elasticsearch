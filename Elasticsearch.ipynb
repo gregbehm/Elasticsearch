{
 "cells": [
  {
   "cell_type": "code",
   "execution_count": 1,
   "metadata": {},
   "outputs": [],
   "source": [
    "import json\n",
    "import pathlib\n",
    "import requests\n",
    "import time\n",
    "import twittertools"
   ]
  },
  {
   "cell_type": "markdown",
   "metadata": {},
   "source": [
    "### Define Elasticsearch server URI"
   ]
  },
  {
   "cell_type": "code",
   "execution_count": 2,
   "metadata": {},
   "outputs": [],
   "source": [
    "elasticsearch_server = 'http://localhost:9200'"
   ]
  },
  {
   "cell_type": "markdown",
   "metadata": {},
   "source": [
    "### Get tweets from @pourmecoffee's timeline"
   ]
  },
  {
   "cell_type": "code",
   "execution_count": 3,
   "metadata": {},
   "outputs": [],
   "source": [
    "filepath = pathlib.Path.home().joinpath('.twitter', 'credentials.json')\n",
    "twt = twittertools.TwitterTools(filepath)"
   ]
  },
  {
   "cell_type": "code",
   "execution_count": 4,
   "metadata": {},
   "outputs": [
    {
     "data": {
      "text/plain": [
       "3242"
      ]
     },
     "execution_count": 4,
     "metadata": {},
     "output_type": "execute_result"
    }
   ],
   "source": [
    "tweets = twt.get_user_timeline('pourmecoffee')\n",
    "len(tweets)"
   ]
  },
  {
   "cell_type": "markdown",
   "metadata": {},
   "source": [
    "### Create Elasticsearch twitter index "
   ]
  },
  {
   "cell_type": "code",
   "execution_count": 5,
   "metadata": {},
   "outputs": [
    {
     "data": {
      "text/plain": [
       "<Response [200]>"
      ]
     },
     "execution_count": 5,
     "metadata": {},
     "output_type": "execute_result"
    }
   ],
   "source": [
    "# For this demo only, delete any existing \"twitter\" index\n",
    "uri = elasticsearch_server + '/twitter'\n",
    "requests.delete(uri)"
   ]
  },
  {
   "cell_type": "code",
   "execution_count": 6,
   "metadata": {},
   "outputs": [
    {
     "name": "stdout",
     "output_type": "stream",
     "text": [
      "health status index   uuid                   pri rep docs.count docs.deleted store.size pri.store.size\n",
      "yellow open   .kibana Yuy-vovlQyeUPVim2PcdFw   1   1          3            0     49.9kb         49.9kb\n",
      "\n"
     ]
    }
   ],
   "source": [
    "# Print indices before creating /twitter\n",
    "r = requests.get(elasticsearch_server + '/_cat/indices?v')\n",
    "print(r.text)"
   ]
  },
  {
   "cell_type": "code",
   "execution_count": 7,
   "metadata": {},
   "outputs": [
    {
     "data": {
      "text/plain": [
       "<Response [200]>"
      ]
     },
     "execution_count": 7,
     "metadata": {},
     "output_type": "execute_result"
    }
   ],
   "source": [
    "uri = elasticsearch_server + '/twitter'\n",
    "requests.put(uri)"
   ]
  },
  {
   "cell_type": "code",
   "execution_count": 8,
   "metadata": {},
   "outputs": [
    {
     "name": "stdout",
     "output_type": "stream",
     "text": [
      "health status index   uuid                   pri rep docs.count docs.deleted store.size pri.store.size\n",
      "yellow open   .kibana Yuy-vovlQyeUPVim2PcdFw   1   1          3            0     49.9kb         49.9kb\n",
      "yellow open   twitter 1dhcAnozRL-Q8utR60NQgg   5   1          0            0      1.1kb          1.1kb\n",
      "\n"
     ]
    }
   ],
   "source": [
    "# Print indices after creating /twitter\n",
    "r = requests.get(elasticsearch_server + '/_cat/indices?v')\n",
    "print(r.text)"
   ]
  },
  {
   "cell_type": "markdown",
   "metadata": {},
   "source": [
    "### Add all tweets to twitter/tweets"
   ]
  },
  {
   "cell_type": "code",
   "execution_count": 9,
   "metadata": {},
   "outputs": [
    {
     "name": "stdout",
     "output_type": "stream",
     "text": [
      "3242 tweets indexed\n"
     ]
    }
   ],
   "source": [
    "uri = elasticsearch_server + '/twitter/tweets/'\n",
    "success = 0\n",
    "for tweet in tweets:\n",
    "    _source = twittertools.unpack_tweet(tweet)\n",
    "    r = requests.post(uri, json=_source)\n",
    "    if r.status_code in [200, 201]:\n",
    "        success += 1\n",
    "print(f'{success} tweets indexed')"
   ]
  },
  {
   "cell_type": "markdown",
   "metadata": {},
   "source": [
    "### Confirm number of tweets added to twitter/tweets"
   ]
  },
  {
   "cell_type": "code",
   "execution_count": 10,
   "metadata": {},
   "outputs": [
    {
     "name": "stdout",
     "output_type": "stream",
     "text": [
      "Found 3161 of 3242 tweets. Sleeping for 0.25 seconds.\n",
      "Found 3161 of 3242 tweets. Sleeping for 0.25 seconds.\n",
      "Found all 3242 tweets!\n"
     ]
    }
   ],
   "source": [
    "sleep_time = 0.250\n",
    "while True:\n",
    "    uri = elasticsearch_server + '/twitter/tweets/_search?q=*'\n",
    "    r = requests.get(uri)\n",
    "    results = dict(r.json())\n",
    "    total = results['hits']['total']\n",
    "    if total != success:\n",
    "        print(f'Found {total} of {success} tweets. Sleeping for {sleep_time} seconds.')\n",
    "        time.sleep(sleep_time)\n",
    "    else:\n",
    "        print(f'Found all {total} tweets!')\n",
    "        break"
   ]
  }
 ],
 "metadata": {
  "kernelspec": {
   "display_name": "Python 3",
   "language": "python",
   "name": "python3"
  },
  "language_info": {
   "codemirror_mode": {
    "name": "ipython",
    "version": 3
   },
   "file_extension": ".py",
   "mimetype": "text/x-python",
   "name": "python",
   "nbconvert_exporter": "python",
   "pygments_lexer": "ipython3",
   "version": "3.6.3"
  }
 },
 "nbformat": 4,
 "nbformat_minor": 2
}
